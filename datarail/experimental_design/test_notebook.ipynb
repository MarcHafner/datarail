{
 "cells": [
  {
   "cell_type": "markdown",
   "metadata": {},
   "source": [
    "# Test of user interface for Experimental design "
   ]
  },
  {
   "cell_type": "markdown",
   "metadata": {},
   "source": [
    "Provide details relevant to your experiment"
   ]
  },
  {
   "cell_type": "code",
   "execution_count": 4,
   "metadata": {
    "collapsed": false
   },
   "outputs": [],
   "source": [
    "import numpy as np\n",
    "drugs = ['MK2206', 'Gefitinib', 'GSK1059615',\n",
    "         'BEZ235', 'Triciribine', 'PP242']\n",
    "\n",
    "cell_lines = ['AU565', 'HCC1954', 'T47D', 'MCF 10A']\n",
    "\n",
    "# Fixed controls\n",
    "n_controls = 90\n",
    "\n",
    "# drug dose series\n",
    "concentrations = np.hstack((1, 10 ** np.linspace(1, 4, 9)))\n",
    "\n",
    "# drug_combinations. Provide an empty list if experiment does not involve drug combos\n",
    "drug_class1 = ['MK2206', 'Gefitinib', 'GSK1059615']\n",
    "drug_class2 = ['BEZ235', 'Triciribine', 'PP242']\n",
    "\n",
    "# combo_doses. Provide an empty list if experiment does not involve combinations\n",
    "combo_concentrations = concentrations[4:7]"
   ]
  },
  {
   "cell_type": "markdown",
   "metadata": {},
   "source": [
    "Remainder of script should ideally be left untouched by user"
   ]
  },
  {
   "cell_type": "code",
   "execution_count": 7,
   "metadata": {
    "collapsed": false
   },
   "outputs": [
    {
     "name": "stderr",
     "output_type": "stream",
     "text": [
      "control_position.py:26: VisibleDeprecationWarning: non integer (and non boolean) array-likes will not be accepted as indices in the future\n",
      "  cntrl_pos[row_pos1 + [row_pos2[1]], col_pos[1]] = True\n",
      "control_position.py:26: VisibleDeprecationWarning: using a non-integer number instead of an integer will result in an error in the future\n",
      "  cntrl_pos[row_pos1 + [row_pos2[1]], col_pos[1]] = True\n",
      "control_position.py:27: VisibleDeprecationWarning: non integer (and non boolean) array-likes will not be accepted as indices in the future\n",
      "  cntrl_pos[row_pos1 + [row_pos2[1]], col_pos[2]] = True\n",
      "control_position.py:27: VisibleDeprecationWarning: using a non-integer number instead of an integer will result in an error in the future\n",
      "  cntrl_pos[row_pos1 + [row_pos2[1]], col_pos[2]] = True\n",
      "control_position.py:28: VisibleDeprecationWarning: using a non-integer number instead of an integer will result in an error in the future\n",
      "  cntrl_pos[row_pos1[1], col_pos] = True\n",
      "control_position.py:28: VisibleDeprecationWarning: non integer (and non boolean) array-likes will not be accepted as indices in the future\n",
      "  cntrl_pos[row_pos1[1], col_pos] = True\n",
      "control_position.py:29: VisibleDeprecationWarning: using a non-integer number instead of an integer will result in an error in the future\n",
      "  cntrl_pos[row_pos1[2], col_pos] = True\n",
      "control_position.py:29: VisibleDeprecationWarning: non integer (and non boolean) array-likes will not be accepted as indices in the future\n",
      "  cntrl_pos[row_pos1[2], col_pos] = True\n",
      "/Users/kartik/.virtualenvs/jupyter/lib/python2.7/site-packages/matplotlib/collections.py:548: FutureWarning: elementwise comparison failed; returning scalar instead, but in the future will perform elementwise comparison\n",
      "  if self._edgecolors == 'face':\n"
     ]
    },
    {
     "data": {
      "text/plain": [
       "<matplotlib.figure.Figure at 0x10bb43c50>"
      ]
     },
     "metadata": {},
     "output_type": "display_data"
    }
   ],
   "source": [
    "\n",
    "from construct_design import construct_design\n",
    "from parse_vararg import parse_args\n",
    "from treatment_df import get_df\n",
    "from plot_panels import plot_drugs, plot_control_wells\n",
    "%matplotlib inline\n",
    "\n",
    "args = parse_args()\n",
    "drug_treatment = {}\n",
    "combo_doses = {}\n",
    "for drug in drugs:\n",
    "    drug_treatment[drug] = concentrations\n",
    "    combo_doses[drug] = combo_concentrations\n",
    "combo_pairs = [(d1, d2) for d1 in drug_class1 for d2 in drug_class2 ]   \n",
    "drug_treatment_df = get_df(drug_treatment, args,\n",
    "                           combo_pairs, combo_doses)\n",
    "\n",
    "Designs = construct_design(drugs, cell_lines, drug_treatment_df,\n",
    "                           n_controls, args)\n",
    "plot_drugs(Designs, drugs)\n",
    "plot_control_wells(Designs)"
   ]
  },
  {
   "cell_type": "code",
   "execution_count": 3,
   "metadata": {
    "collapsed": false
   },
   "outputs": [],
   "source": []
  }
 ],
 "metadata": {
  "kernelspec": {
   "display_name": "Python 2",
   "language": "python",
   "name": "python2"
  },
  "language_info": {
   "codemirror_mode": {
    "name": "ipython",
    "version": 2
   },
   "file_extension": ".py",
   "mimetype": "text/x-python",
   "name": "python",
   "nbconvert_exporter": "python",
   "pygments_lexer": "ipython2",
   "version": "2.7.10"
  }
 },
 "nbformat": 4,
 "nbformat_minor": 0
}
