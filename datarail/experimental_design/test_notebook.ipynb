{
 "cells": [
  {
   "cell_type": "markdown",
   "metadata": {},
   "source": [
    "# Test of user interface for Experimental design "
   ]
  },
  {
   "cell_type": "markdown",
   "metadata": {},
   "source": [
    "Provide details relevant to your experiment"
   ]
  },
  {
   "cell_type": "code",
   "execution_count": 3,
   "metadata": {
    "collapsed": false
   },
   "outputs": [],
   "source": [
    "import numpy as np\n",
    "drugs = ['MK2206', 'Gefitinib', 'GSK1059615',\n",
    "         'BEZ235', 'Triciribine', 'PP242']\n",
    "\n",
    "cell_lines = ['AU565', 'HCC1954', 'T47D', 'MCF 10A']\n",
    "\n",
    "# Fixed controls\n",
    "n_controls = 90\n",
    "\n",
    "# drug dose series\n",
    "concentrations = np.logspace(0, 4, 9)\n",
    "\n",
    "# drug_combinations. Provide an empty list if experiment does not involve drug combos\n",
    "drug_class1 = ['MK2206', 'Gefitinib', 'GSK1059615']\n",
    "drug_class2 = ['BEZ235', 'Triciribine', 'PP242']\n",
    "\n",
    "# combo_doses. Provide an empty list if experiment does not involve combinations\n",
    "combo_concentrations = concentrations[4:7]\n",
    "barcode =  'CM_20160514'"
   ]
  },
  {
   "cell_type": "markdown",
   "metadata": {},
   "source": [
    "Remainder of script should ideally be left untouched by user"
   ]
  },
  {
   "cell_type": "code",
   "execution_count": 4,
   "metadata": {
    "collapsed": false
   },
   "outputs": [
    {
     "ename": "AssertionError",
     "evalue": "For placing controls on the edge, atleast 12 controls are required",
     "output_type": "error",
     "traceback": [
      "\u001b[0;31m---------------------------------------------------------------------------\u001b[0m",
      "\u001b[0;31mAssertionError\u001b[0m                            Traceback (most recent call last)",
      "\u001b[0;32m<ipython-input-4-032c219bb2ea>\u001b[0m in \u001b[0;36m<module>\u001b[0;34m()\u001b[0m\n\u001b[1;32m     17\u001b[0m \u001b[0;34m\u001b[0m\u001b[0m\n\u001b[1;32m     18\u001b[0m Designs = construct_design(drugs, cell_lines, drug_treatment_df,\n\u001b[0;32m---> 19\u001b[0;31m                            n_controls, args, barcode)\n\u001b[0m\u001b[1;32m     20\u001b[0m \u001b[0mplot_drugs\u001b[0m\u001b[0;34m(\u001b[0m\u001b[0mDesigns\u001b[0m\u001b[0;34m,\u001b[0m \u001b[0mdrugs\u001b[0m\u001b[0;34m)\u001b[0m\u001b[0;34m\u001b[0m\u001b[0m\n\u001b[1;32m     21\u001b[0m \u001b[0mplot_control_wells\u001b[0m\u001b[0;34m(\u001b[0m\u001b[0mDesigns\u001b[0m\u001b[0;34m)\u001b[0m\u001b[0;34m\u001b[0m\u001b[0m\n",
      "\u001b[0;32m/Users/kartik/subkar_repos/datarail/datarail/experimental_design/construct_design.pyc\u001b[0m in \u001b[0;36mconstruct_design\u001b[0;34m(drugs, cell_lines, treatments_df, num_doses, args, barcode, random_seed)\u001b[0m\n\u001b[1;32m     32\u001b[0m     \u001b[0mn_wells\u001b[0m \u001b[0;34m=\u001b[0m \u001b[0mplate_dims\u001b[0m\u001b[0;34m[\u001b[0m\u001b[0;36m0\u001b[0m\u001b[0;34m]\u001b[0m \u001b[0;34m*\u001b[0m \u001b[0mplate_dims\u001b[0m\u001b[0;34m[\u001b[0m\u001b[0;36m1\u001b[0m\u001b[0;34m]\u001b[0m\u001b[0;34m\u001b[0m\u001b[0m\n\u001b[1;32m     33\u001b[0m     \u001b[0mn_controls\u001b[0m \u001b[0;34m=\u001b[0m \u001b[0mn_wells\u001b[0m \u001b[0;34m-\u001b[0m \u001b[0;34m(\u001b[0m\u001b[0mlen\u001b[0m\u001b[0;34m(\u001b[0m\u001b[0mdrugs\u001b[0m\u001b[0;34m)\u001b[0m \u001b[0;34m*\u001b[0m \u001b[0mnum_doses\u001b[0m\u001b[0;34m)\u001b[0m\u001b[0;34m\u001b[0m\u001b[0m\n\u001b[0;32m---> 34\u001b[0;31m     \u001b[0mcntrl_pos\u001b[0m \u001b[0;34m=\u001b[0m \u001b[0mcontrol_positions\u001b[0m\u001b[0;34m(\u001b[0m\u001b[0mplate_dims\u001b[0m\u001b[0;34m,\u001b[0m \u001b[0mn_controls\u001b[0m\u001b[0;34m)\u001b[0m\u001b[0;34m\u001b[0m\u001b[0m\n\u001b[0m\u001b[1;32m     35\u001b[0m     \u001b[0mDesigns\u001b[0m\u001b[0;34m[\u001b[0m\u001b[0;34m'control_wells'\u001b[0m\u001b[0;34m]\u001b[0m \u001b[0;34m=\u001b[0m \u001b[0;34m(\u001b[0m\u001b[0;34m(\u001b[0m\u001b[0;34m'rows'\u001b[0m\u001b[0;34m,\u001b[0m \u001b[0;34m'cols'\u001b[0m\u001b[0;34m)\u001b[0m\u001b[0;34m,\u001b[0m \u001b[0mcntrl_pos\u001b[0m\u001b[0;34m)\u001b[0m\u001b[0;34m\u001b[0m\u001b[0m\n\u001b[1;32m     36\u001b[0m     \u001b[0;32mif\u001b[0m \u001b[0mrandom_seed\u001b[0m\u001b[0;34m:\u001b[0m\u001b[0;34m\u001b[0m\u001b[0m\n",
      "\u001b[0;32m/Users/kartik/subkar_repos/datarail/datarail/experimental_design/control_position.pyc\u001b[0m in \u001b[0;36mcontrol_positions\u001b[0;34m(plate_dims, control_count)\u001b[0m\n\u001b[1;32m      8\u001b[0m \u001b[0;34m\u001b[0m\u001b[0m\n\u001b[1;32m      9\u001b[0m     \u001b[0;32massert\u001b[0m \u001b[0mcontrol_count\u001b[0m \u001b[0;34m>=\u001b[0m \u001b[0;36m12\u001b[0m\u001b[0;34m,\u001b[0m\u001b[0;31m\\\u001b[0m\u001b[0;34m\u001b[0m\u001b[0m\n\u001b[0;32m---> 10\u001b[0;31m         \u001b[0;34m\"For placing controls on the edge, atleast 12 controls are required\"\u001b[0m\u001b[0;34m\u001b[0m\u001b[0m\n\u001b[0m\u001b[1;32m     11\u001b[0m \u001b[0;34m\u001b[0m\u001b[0m\n\u001b[1;32m     12\u001b[0m     row_pos1 = [int(i-1) for i\n",
      "\u001b[0;31mAssertionError\u001b[0m: For placing controls on the edge, atleast 12 controls are required"
     ]
    }
   ],
   "source": [
    "\n",
    "from construct_design import construct_design\n",
    "from parse_vararg import parse_args\n",
    "from treatment_df import get_df\n",
    "from plot_panels import plot_drugs, plot_control_wells\n",
    "%matplotlib inline\n",
    "\n",
    "args = parse_args()\n",
    "drug_treatment = {}\n",
    "combo_doses = {}\n",
    "for drug in drugs:\n",
    "    drug_treatment[drug] = concentrations\n",
    "    combo_doses[drug] = combo_concentrations\n",
    "combo_pairs = [(d1, d2) for d1 in drug_class1 for d2 in drug_class2 ]   \n",
    "drug_treatment_df = get_df(drug_treatment, args,\n",
    "                           combo_pairs, combo_doses)\n",
    "\n",
    "Designs = construct_design(drugs, cell_lines, drug_treatment_df,\n",
    "                           n_controls, args, barcode)\n",
    "plot_drugs(Designs, drugs)\n",
    "plot_control_wells(Designs)"
   ]
  },
  {
   "cell_type": "code",
   "execution_count": null,
   "metadata": {
    "collapsed": false
   },
   "outputs": [],
   "source": [
    "def plot_control_wells(xarray_struct):\n",
    "    bool_array = xarray_struct['control_wells'].values\n",
    "    plate_dims = bool_array.shape\n",
    "    panel = xr.DataArray(bool_array,\n",
    "                         coords={'rows': range(plate_dims[0]),\n",
    "                                 'cols': range(1, plate_dims[1]+1)})\n",
    "    panel.plot(cmap='jet', edgecolor='k')\n",
    "    plt.yticks(range(plate_dims[0]),\n",
    "               list(xarray_struct['control_wells'].coords['rows'].values))\n",
    "    plt.savefig('ld_layout_images/control_wells_layout.png')\n",
    "    plt.clf()"
   ]
  }
 ],
 "metadata": {
  "kernelspec": {
   "display_name": "Python 2",
   "language": "python",
   "name": "python2"
  },
  "language_info": {
   "codemirror_mode": {
    "name": "ipython",
    "version": 2
   },
   "file_extension": ".py",
   "mimetype": "text/x-python",
   "name": "python",
   "nbconvert_exporter": "python",
   "pygments_lexer": "ipython2",
   "version": "2.7.10"
  }
 },
 "nbformat": 4,
 "nbformat_minor": 0
}
