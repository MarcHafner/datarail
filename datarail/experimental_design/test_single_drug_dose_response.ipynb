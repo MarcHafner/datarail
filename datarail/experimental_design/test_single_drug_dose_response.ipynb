{
 "cells": [
  {
   "cell_type": "code",
   "execution_count": 10,
   "metadata": {
    "collapsed": false
   },
   "outputs": [],
   "source": [
    "import numpy as np\n",
    "drugs = ['Drug_%i'%i for i in range(30)]\n",
    "\n",
    "# drug dose series\n",
    "concentrations = [np.logspace(-3, 1, 9)]*len(drugs)\n",
    "for i in [10, 20, 29]:\n",
    "    concentrations[i] = np.logspace(-4, 1, 11)\n",
    "\n",
    "# barcodes for replicates\n",
    "barcodes = ['test_plt_' + chr(65+i) for i in range(3)]\n"
   ]
  },
  {
   "cell_type": "code",
   "execution_count": 2,
   "metadata": {
    "collapsed": false
   },
   "outputs": [],
   "source": [
    "from construct_design import construct_design\n",
    "from parse_vararg import parse_args\n",
    "from treatment_df import get_df\n",
    "from collections import OrderedDict\n",
    "%matplotlib inline\n",
    "\n",
    "args = parse_args()\n",
    "drug_treatment = OrderedDict()\n",
    "for i,drug in enumerate(drugs):\n",
    "    drug_treatment[drug] = concentrations[i]\n",
    "treatments_df = get_df(drug_treatment, args)\n",
    "\n",
    "Designs = construct_design(treatments_df, args, barcodes, \n",
    "                           n_replicates=len(barcodes), random_seed=1, edge_bias=True)"
   ]
  },
  {
   "cell_type": "code",
   "execution_count": 7,
   "metadata": {
    "collapsed": false
   },
   "outputs": [
    {
     "data": {
      "text/plain": [
       "<matplotlib.figure.Figure at 0x109aedcd0>"
      ]
     },
     "metadata": {},
     "output_type": "display_data"
    }
   ],
   "source": [
    "from plot_panels import plot_drugs, plot_control_wells\n",
    "for i in range(len(Designs)):\n",
    "    plot_drugs(Designs[i], ['Drug_1', 'Drug_2'])\n",
    "    plot_control_wells(Designs[i])"
   ]
  },
  {
   "cell_type": "code",
   "execution_count": null,
   "metadata": {
    "collapsed": true
   },
   "outputs": [],
   "source": []
  }
 ],
 "metadata": {
  "kernelspec": {
   "display_name": "Python 2",
   "language": "python",
   "name": "python2"
  },
  "language_info": {
   "codemirror_mode": {
    "name": "ipython",
    "version": 2
   },
   "file_extension": ".py",
   "mimetype": "text/x-python",
   "name": "python",
   "nbconvert_exporter": "python",
   "pygments_lexer": "ipython2",
   "version": "2.7.11"
  }
 },
 "nbformat": 4,
 "nbformat_minor": 0
}
