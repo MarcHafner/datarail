{
 "cells": [
  {
   "cell_type": "markdown",
   "metadata": {},
   "source": [
    "# Template for specifiying the experimental design."
   ]
  },
  {
   "cell_type": "markdown",
   "metadata": {},
   "source": [
    "The compounds, number of doses and information about the role of each compound (treatment, negative control etc) is defined in the file \"compound_list.tsv\". The scripts below take this tsv file as input in order to design the layout on the plate.\n",
    "\n",
    "The size of the plate has to be provided as number of rows and columns. The number of replicates and the plate barcode are also provided in the block of code below."
   ]
  },
  {
   "cell_type": "code",
   "execution_count": 1,
   "metadata": {
    "collapsed": false
   },
   "outputs": [
    {
     "name": "stdout",
     "output_type": "stream",
     "text": [
      "\n",
      "There are 8 untreated wells on the inner plate. Consider alloting more wells to negative controls\n"
     ]
    },
    {
     "name": "stderr",
     "output_type": "stream",
     "text": [
      "process_assay.py:110: UserWarning: Plate will have untreated inner wells\n",
      "  'Plate will have untreated inner wells')\n"
     ]
    }
   ],
   "source": [
    "from process_assay import read_input\n",
    "from designer import make_layout\n",
    "\n",
    "input_file = 'compound_list.tsv'\n",
    "plate_dims = [16, 24]\n",
    "barcode_prefix = 'DRUG_ASSAY_'\n",
    "num_replicates = 3\n",
    "\n",
    "treatment_dicts = read_input(input_file, plate_dims,\n",
    "                             barcode_prefix, encode_plate=True,\n",
    "                             num_replicates=3)"
   ]
  },
  {
   "cell_type": "code",
   "execution_count": 2,
   "metadata": {
    "collapsed": true
   },
   "outputs": [],
   "source": [
    "Designs = make_layout(treatment_dicts, barcode_prefix,\n",
    "                      encode_barcode=True,\n",
    "                      plate_dims=[16, 24], nreps=num_replicates,\n",
    "                      randomize=True, biased_randomization=True)"
   ]
  }
 ],
 "metadata": {
  "kernelspec": {
   "display_name": "Python 2",
   "language": "python",
   "name": "python2"
  },
  "language_info": {
   "codemirror_mode": {
    "name": "ipython",
    "version": 2
   },
   "file_extension": ".py",
   "mimetype": "text/x-python",
   "name": "python",
   "nbconvert_exporter": "python",
   "pygments_lexer": "ipython2",
   "version": "2.7.11"
  }
 },
 "nbformat": 4,
 "nbformat_minor": 0
}
