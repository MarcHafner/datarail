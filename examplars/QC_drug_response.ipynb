{
 "cells": [
  {
   "cell_type": "code",
   "execution_count": null,
   "metadata": {
    "collapsed": false
   },
   "outputs": [],
   "source": [
    "import pandas as pd\n",
    "import xarray as xr\n",
    "import numpy as np\n",
    "import datarail.utils.plate_fcts as pltfct\n",
    "import datarail.data_processing.drug_response.qc_plate as qcfct\n",
    "import datarail.import_modules.columbus_import_functions as CoImp\n",
    "import datarail.data_processing.drug_response.treatment_annotation as TrtAnnot\n",
    "import datarail.utils.drug_treatment as drgtrt\n",
    "    \n",
    "import matplotlib.pyplot as plt\n",
    "%matplotlib inline\n",
    "\n",
    "reload(CoImp)\n",
    "\n",
    "# load the synthetic data (Columbus output)\n",
    "df = CoImp.Columbus_processing('../tests/drug_response_data/OUTPUT/Example1_Columbus_output.tsv',\n",
    "                              (('Hoechst_pos', 'cell_count__total'),\n",
    "                               ('LDR_pos_Hoechst_neg', 'corpse_count'),\n",
    "                               ('Hoechst_LDR_pos', 'cell_count__dead')),\n",
    "                              'cell_count__total - cell_count__dead')\n",
    "# alternatively, one can load already processed and annotated data:\n",
    "#       df = pd.read_csv('../tests/drug_response_data/OUTPUT/Example1_biased_results.tsv', sep='\\t')\n",
    "\n",
    "df.head()"
   ]
  },
  {
   "cell_type": "code",
   "execution_count": null,
   "metadata": {
    "collapsed": false
   },
   "outputs": [],
   "source": [
    "# convert to an xarray (for QC)\n",
    "xray = pltfct.dfplate2xr(df)\n",
    "xray"
   ]
  },
  {
   "cell_type": "code",
   "execution_count": null,
   "metadata": {
    "collapsed": false
   },
   "outputs": [],
   "source": [
    "# QC for plate bias\n",
    "qcfct.Plate_bias(xray, filename='OUTPUT/QC_report.pdf')\n",
    "qcfct.Plate_bias(xray, variable='cell_count__dead', filename='OUTPUT/QC_report_deadcells.pdf')"
   ]
  },
  {
   "cell_type": "code",
   "execution_count": null,
   "metadata": {
    "collapsed": false
   },
   "outputs": [],
   "source": [
    "# annotate the data \n",
    "df_annotated = TrtAnnot.add_treatments(\n",
    "                    TrtAnnot.add_plate_info(df, \n",
    "                        pd.read_csv('../tests/drug_response_data/OUTPUT/Example1_plate_info.tsv', sep='\\t')),\n",
    "                             '../tests/drug_response_data/OUTPUT/')\n",
    "df_annotated.iloc[range(840,5500,400),[0,4,5,9,10,12,13,14]]"
   ]
  },
  {
   "cell_type": "code",
   "execution_count": null,
   "metadata": {
    "collapsed": false
   },
   "outputs": [],
   "source": [
    "qcfct.Negative_control_bias(df_annotated, filename='OUTPUT/QC_report_negative_contols.pdf')"
   ]
  }
 ],
 "metadata": {
  "kernelspec": {
   "display_name": "Python 2",
   "language": "python",
   "name": "python2"
  },
  "language_info": {
   "codemirror_mode": {
    "name": "ipython",
    "version": 2
   },
   "file_extension": ".py",
   "mimetype": "text/x-python",
   "name": "python",
   "nbconvert_exporter": "python",
   "pygments_lexer": "ipython2",
   "version": "2.7.11"
  }
 },
 "nbformat": 4,
 "nbformat_minor": 0
}
