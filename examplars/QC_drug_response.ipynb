{
 "cells": [
  {
   "cell_type": "code",
   "execution_count": 1,
   "metadata": {
    "collapsed": false
   },
   "outputs": [
    {
     "name": "stdout",
     "output_type": "stream",
     "text": [
      "Default number of fields: 6 ; 357 wells with missing field(s)\n"
     ]
    },
    {
     "data": {
      "text/html": [
       "<div>\n",
       "<table border=\"1\" class=\"dataframe\">\n",
       "  <thead>\n",
       "    <tr style=\"text-align: right;\">\n",
       "      <th></th>\n",
       "      <th>barcode</th>\n",
       "      <th>date</th>\n",
       "      <th>Row</th>\n",
       "      <th>Column</th>\n",
       "      <th>well</th>\n",
       "      <th>cell_count</th>\n",
       "      <th>cell_count__total</th>\n",
       "      <th>corpse_count</th>\n",
       "      <th>cell_count__dead</th>\n",
       "    </tr>\n",
       "  </thead>\n",
       "  <tbody>\n",
       "    <tr>\n",
       "      <th>0</th>\n",
       "      <td>20160623_MH_01</td>\n",
       "      <td>2016-06-06 12:34:56</td>\n",
       "      <td>1</td>\n",
       "      <td>3</td>\n",
       "      <td>A03</td>\n",
       "      <td>467.0</td>\n",
       "      <td>587.0</td>\n",
       "      <td>89.0</td>\n",
       "      <td>120.0</td>\n",
       "    </tr>\n",
       "    <tr>\n",
       "      <th>1</th>\n",
       "      <td>20160623_MH_01</td>\n",
       "      <td>2016-06-06 12:34:56</td>\n",
       "      <td>1</td>\n",
       "      <td>4</td>\n",
       "      <td>A04</td>\n",
       "      <td>291.0</td>\n",
       "      <td>442.0</td>\n",
       "      <td>189.0</td>\n",
       "      <td>151.0</td>\n",
       "    </tr>\n",
       "    <tr>\n",
       "      <th>2</th>\n",
       "      <td>20160623_MH_01</td>\n",
       "      <td>2016-06-06 12:34:56</td>\n",
       "      <td>1</td>\n",
       "      <td>5</td>\n",
       "      <td>A05</td>\n",
       "      <td>445.0</td>\n",
       "      <td>559.0</td>\n",
       "      <td>86.0</td>\n",
       "      <td>114.0</td>\n",
       "    </tr>\n",
       "    <tr>\n",
       "      <th>3</th>\n",
       "      <td>20160623_MH_01</td>\n",
       "      <td>2016-06-06 12:34:56</td>\n",
       "      <td>1</td>\n",
       "      <td>6</td>\n",
       "      <td>A06</td>\n",
       "      <td>731.0</td>\n",
       "      <td>813.0</td>\n",
       "      <td>22.0</td>\n",
       "      <td>82.0</td>\n",
       "    </tr>\n",
       "    <tr>\n",
       "      <th>4</th>\n",
       "      <td>20160623_MH_01</td>\n",
       "      <td>2016-06-06 12:34:56</td>\n",
       "      <td>1</td>\n",
       "      <td>7</td>\n",
       "      <td>A07</td>\n",
       "      <td>967.0</td>\n",
       "      <td>1077.0</td>\n",
       "      <td>30.0</td>\n",
       "      <td>110.0</td>\n",
       "    </tr>\n",
       "  </tbody>\n",
       "</table>\n",
       "</div>"
      ],
      "text/plain": [
       "          barcode                date  Row  Column well  cell_count  \\\n",
       "0  20160623_MH_01 2016-06-06 12:34:56    1       3  A03       467.0   \n",
       "1  20160623_MH_01 2016-06-06 12:34:56    1       4  A04       291.0   \n",
       "2  20160623_MH_01 2016-06-06 12:34:56    1       5  A05       445.0   \n",
       "3  20160623_MH_01 2016-06-06 12:34:56    1       6  A06       731.0   \n",
       "4  20160623_MH_01 2016-06-06 12:34:56    1       7  A07       967.0   \n",
       "\n",
       "   cell_count__total  corpse_count  cell_count__dead  \n",
       "0              587.0          89.0             120.0  \n",
       "1              442.0         189.0             151.0  \n",
       "2              559.0          86.0             114.0  \n",
       "3              813.0          22.0              82.0  \n",
       "4             1077.0          30.0             110.0  "
      ]
     },
     "execution_count": 1,
     "metadata": {},
     "output_type": "execute_result"
    }
   ],
   "source": [
    "import pandas as pd\n",
    "import xarray as xr\n",
    "import numpy as np\n",
    "import datarail.utils.plate_fcts as pltfct\n",
    "import datarail.data_processing.drug_response.qc_plate as qcfct\n",
    "import datarail.import_modules.columbus_import_functions as CoImp\n",
    "reload(pltfct)\n",
    "reload(qcfct)\n",
    "\n",
    "\n",
    "\n",
    "# load the synthetic data (Columbus output)\n",
    "df = CoImp.Columbus_processing('../tests/drug_response_data/OUTPUT/Example1_Columbus_output.tsv')\n",
    "# alternatively, one can load already processed and annotated data:\n",
    "# df = pd.read_csv('../tests/drug_response_data/OUTPUT/Example1_biased_results.tsv', sep='\\t')\n",
    "\n",
    "df.head()"
   ]
  },
  {
   "cell_type": "code",
   "execution_count": 2,
   "metadata": {
    "collapsed": false
   },
   "outputs": [
    {
     "data": {
      "text/plain": [
       "<xarray.Dataset>\n",
       "Dimensions:            (barcode: 12, column: 20, row: 14)\n",
       "Coordinates:\n",
       "  * barcode            (barcode) object '20160623_MH_01' '20160623_MH_02' ...\n",
       "  * row                (row) int64 1 2 3 4 5 6 7 8 9 10 11 12 13 14\n",
       "  * column             (column) int64 3 4 5 6 7 8 9 10 11 12 13 14 15 16 17 ...\n",
       "Data variables:\n",
       "    date               (barcode, row, column) datetime64[ns] 2016-06-06T12:34:56 ...\n",
       "    Row                (barcode, row, column) int64 1 1 1 1 1 1 1 1 1 1 1 1 ...\n",
       "    Column             (barcode, row, column) int64 3 4 5 6 7 8 9 10 11 12 ...\n",
       "    well               (barcode, row, column) object 'A03' 'A04' 'A05' 'A06' ...\n",
       "    cell_count         (barcode, row, column) float64 467.0 291.0 445.0 ...\n",
       "    cell_count__total  (barcode, row, column) float64 587.0 442.0 559.0 ...\n",
       "    corpse_count       (barcode, row, column) float64 89.0 189.0 86.0 22.0 ...\n",
       "    cell_count__dead   (barcode, row, column) float64 120.0 151.0 114.0 82.0 ...\n",
       "Attributes:\n",
       "    plate_dims: [16, 24]"
      ]
     },
     "execution_count": 2,
     "metadata": {},
     "output_type": "execute_result"
    }
   ],
   "source": [
    "# convert to an xarray (for QC)\n",
    "xray = pltfct.dfplate2xr(df)\n",
    "xray"
   ]
  },
  {
   "cell_type": "code",
   "execution_count": 3,
   "metadata": {
    "collapsed": true
   },
   "outputs": [],
   "source": [
    "# QC for plate bias\n",
    "qcfct.Plate_bias(xray, filename='OUTPUT/QC_report.pdf')"
   ]
  }
 ],
 "metadata": {
  "kernelspec": {
   "display_name": "Python 2",
   "language": "python",
   "name": "python2"
  },
  "language_info": {
   "codemirror_mode": {
    "name": "ipython",
    "version": 2
   },
   "file_extension": ".py",
   "mimetype": "text/x-python",
   "name": "python",
   "nbconvert_exporter": "python",
   "pygments_lexer": "ipython2",
   "version": "2.7.11"
  }
 },
 "nbformat": 4,
 "nbformat_minor": 0
}
