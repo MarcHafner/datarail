{
 "cells": [
  {
   "cell_type": "code",
   "execution_count": 1,
   "metadata": {
    "collapsed": false
   },
   "outputs": [
    {
     "name": "stdout",
     "output_type": "stream",
     "text": [
      "Default number of fields: 6 ; 598 wells with missing field(s)\n"
     ]
    },
    {
     "data": {
      "text/html": [
       "<div>\n",
       "<table border=\"1\" class=\"dataframe\">\n",
       "  <thead>\n",
       "    <tr style=\"text-align: right;\">\n",
       "      <th></th>\n",
       "      <th>barcode</th>\n",
       "      <th>date</th>\n",
       "      <th>Row</th>\n",
       "      <th>Column</th>\n",
       "      <th>well</th>\n",
       "      <th>cell_count</th>\n",
       "      <th>cell_count__total</th>\n",
       "      <th>corpse_count</th>\n",
       "      <th>cell_count__dead</th>\n",
       "    </tr>\n",
       "  </thead>\n",
       "  <tbody>\n",
       "    <tr>\n",
       "      <th>0</th>\n",
       "      <td>MH1_01</td>\n",
       "      <td>2016-06-06 12:34:56</td>\n",
       "      <td>2</td>\n",
       "      <td>3</td>\n",
       "      <td>B03</td>\n",
       "      <td>491.0</td>\n",
       "      <td>531.0</td>\n",
       "      <td>28.0</td>\n",
       "      <td>40.0</td>\n",
       "    </tr>\n",
       "    <tr>\n",
       "      <th>1</th>\n",
       "      <td>MH1_01</td>\n",
       "      <td>2016-06-06 12:34:56</td>\n",
       "      <td>2</td>\n",
       "      <td>4</td>\n",
       "      <td>B04</td>\n",
       "      <td>482.0</td>\n",
       "      <td>521.0</td>\n",
       "      <td>27.0</td>\n",
       "      <td>39.0</td>\n",
       "    </tr>\n",
       "    <tr>\n",
       "      <th>2</th>\n",
       "      <td>MH1_01</td>\n",
       "      <td>2016-06-06 12:34:56</td>\n",
       "      <td>2</td>\n",
       "      <td>5</td>\n",
       "      <td>B05</td>\n",
       "      <td>516.0</td>\n",
       "      <td>555.0</td>\n",
       "      <td>26.0</td>\n",
       "      <td>39.0</td>\n",
       "    </tr>\n",
       "    <tr>\n",
       "      <th>3</th>\n",
       "      <td>MH1_01</td>\n",
       "      <td>2016-06-06 12:34:56</td>\n",
       "      <td>2</td>\n",
       "      <td>6</td>\n",
       "      <td>B06</td>\n",
       "      <td>469.0</td>\n",
       "      <td>507.0</td>\n",
       "      <td>34.0</td>\n",
       "      <td>38.0</td>\n",
       "    </tr>\n",
       "    <tr>\n",
       "      <th>4</th>\n",
       "      <td>MH1_01</td>\n",
       "      <td>2016-06-06 12:34:56</td>\n",
       "      <td>2</td>\n",
       "      <td>7</td>\n",
       "      <td>B07</td>\n",
       "      <td>465.0</td>\n",
       "      <td>506.0</td>\n",
       "      <td>33.0</td>\n",
       "      <td>41.0</td>\n",
       "    </tr>\n",
       "  </tbody>\n",
       "</table>\n",
       "</div>"
      ],
      "text/plain": [
       "  barcode                date  Row  Column well  cell_count  \\\n",
       "0  MH1_01 2016-06-06 12:34:56    2       3  B03       491.0   \n",
       "1  MH1_01 2016-06-06 12:34:56    2       4  B04       482.0   \n",
       "2  MH1_01 2016-06-06 12:34:56    2       5  B05       516.0   \n",
       "3  MH1_01 2016-06-06 12:34:56    2       6  B06       469.0   \n",
       "4  MH1_01 2016-06-06 12:34:56    2       7  B07       465.0   \n",
       "\n",
       "   cell_count__total  corpse_count  cell_count__dead  \n",
       "0              531.0          28.0              40.0  \n",
       "1              521.0          27.0              39.0  \n",
       "2              555.0          26.0              39.0  \n",
       "3              507.0          34.0              38.0  \n",
       "4              506.0          33.0              41.0  "
      ]
     },
     "execution_count": 1,
     "metadata": {},
     "output_type": "execute_result"
    }
   ],
   "source": [
    "import pandas as pd\n",
    "import xarray as xr\n",
    "import numpy as np\n",
    "import datarail.utils.plate_fcts as pltfct\n",
    "import datarail.data_processing.drug_response.qc_plate as qcfct\n",
    "import datarail.import_modules.columbus_import_functions as CoImp\n",
    "import datarail.data_processing.drug_response.treatment_annotation as TrtAnnot\n",
    "import datarail.utils.drug_treatment as drgtrt\n",
    "    \n",
    "import matplotlib.pyplot as plt\n",
    "%matplotlib inline\n",
    "\n",
    "\n",
    "\n",
    "# load the synthetic data (Columbus output)\n",
    "df = CoImp.Columbus_processing('../tests/drug_response_data/OUTPUT/Example1_Columbus_output.tsv')\n",
    "# alternatively, one can load already processed and annotated data:\n",
    "#       df = pd.read_csv('../tests/drug_response_data/OUTPUT/Example1_biased_results.tsv', sep='\\t')\n",
    "\n",
    "df.head()"
   ]
  },
  {
   "cell_type": "code",
   "execution_count": 2,
   "metadata": {
    "collapsed": false
   },
   "outputs": [
    {
     "data": {
      "text/plain": [
       "<xarray.Dataset>\n",
       "Dimensions:            (barcode: 20, column: 20, row: 14)\n",
       "Coordinates:\n",
       "  * barcode            (barcode) object 'MH1_01' 'MH1_02' 'MH1_03' 'MH1_04' ...\n",
       "  * row                (row) int64 2 3 4 5 6 7 8 9 10 11 12 13 14 15\n",
       "  * column             (column) int64 3 4 5 6 7 8 9 10 11 12 13 14 15 16 17 ...\n",
       "Data variables:\n",
       "    date               (barcode, row, column) datetime64[ns] 2016-06-06T12:34:56 ...\n",
       "    Row                (barcode, row, column) int64 2 2 2 2 2 2 2 2 2 2 2 2 ...\n",
       "    Column             (barcode, row, column) int64 3 4 5 6 7 8 9 10 11 12 ...\n",
       "    well               (barcode, row, column) object 'B03' 'B04' 'B05' 'B06' ...\n",
       "    cell_count         (barcode, row, column) float64 491.0 482.0 516.0 ...\n",
       "    cell_count__total  (barcode, row, column) float64 531.0 521.0 555.0 ...\n",
       "    corpse_count       (barcode, row, column) float64 28.0 27.0 26.0 34.0 ...\n",
       "    cell_count__dead   (barcode, row, column) float64 40.0 39.0 39.0 38.0 ...\n",
       "Attributes:\n",
       "    plate_dims: [16, 24]"
      ]
     },
     "execution_count": 2,
     "metadata": {},
     "output_type": "execute_result"
    }
   ],
   "source": [
    "# convert to an xarray (for QC)\n",
    "xray = pltfct.dfplate2xr(df)\n",
    "xray"
   ]
  },
  {
   "cell_type": "code",
   "execution_count": 7,
   "metadata": {
    "collapsed": false
   },
   "outputs": [
    {
     "data": {
      "image/png": "[encoded data removed]",
      "text/plain": [
       "<matplotlib.figure.Figure at 0x10ac62cd0>"
      ]
     },
     "metadata": {},
     "output_type": "display_data"
    }
   ],
   "source": [
    "# QC for plate bias\n",
    "qcfct.Plate_bias(xray, filename='OUTPUT/QC_report.pdf')\n",
    "qcfct.Plate_bias(xray, variable='cell_count__dead', filename='OUTPUT/QC_report_deadcells.pdf')"
   ]
  },
  {
   "cell_type": "code",
   "execution_count": 4,
   "metadata": {
    "collapsed": false
   },
   "outputs": [
    {
     "data": {
      "text/html": [
       "<div>\n",
       "<table border=\"1\" class=\"dataframe\">\n",
       "  <thead>\n",
       "    <tr style=\"text-align: right;\">\n",
       "      <th></th>\n",
       "      <th>barcode</th>\n",
       "      <th>well</th>\n",
       "      <th>cell_count</th>\n",
       "      <th>cell_line</th>\n",
       "      <th>treatment_duration</th>\n",
       "      <th>agent</th>\n",
       "      <th>concentration</th>\n",
       "      <th>role</th>\n",
       "    </tr>\n",
       "  </thead>\n",
       "  <tbody>\n",
       "    <tr>\n",
       "      <th>840</th>\n",
       "      <td>MH1_01</td>\n",
       "      <td>J11</td>\n",
       "      <td>481.0</td>\n",
       "      <td>CL_1</td>\n",
       "      <td>0</td>\n",
       "      <td>-</td>\n",
       "      <td>0.000000</td>\n",
       "      <td>untreated</td>\n",
       "    </tr>\n",
       "    <tr>\n",
       "      <th>1240</th>\n",
       "      <td>MH1_01</td>\n",
       "      <td>N11</td>\n",
       "      <td>468.0</td>\n",
       "      <td>CL_1</td>\n",
       "      <td>0</td>\n",
       "      <td>-</td>\n",
       "      <td>0.000000</td>\n",
       "      <td>untreated</td>\n",
       "    </tr>\n",
       "    <tr>\n",
       "      <th>240</th>\n",
       "      <td>MH1_11</td>\n",
       "      <td>D11</td>\n",
       "      <td>381.0</td>\n",
       "      <td>CL_1</td>\n",
       "      <td>72</td>\n",
       "      <td>D_1</td>\n",
       "      <td>0.316228</td>\n",
       "      <td>treatment</td>\n",
       "    </tr>\n",
       "    <tr>\n",
       "      <th>640</th>\n",
       "      <td>MH1_11</td>\n",
       "      <td>H11</td>\n",
       "      <td>557.0</td>\n",
       "      <td>CL_1</td>\n",
       "      <td>72</td>\n",
       "      <td>D_2</td>\n",
       "      <td>0.010000</td>\n",
       "      <td>treatment</td>\n",
       "    </tr>\n",
       "    <tr>\n",
       "      <th>1040</th>\n",
       "      <td>MH1_11</td>\n",
       "      <td>L11</td>\n",
       "      <td>262.0</td>\n",
       "      <td>CL_1</td>\n",
       "      <td>72</td>\n",
       "      <td>D_4</td>\n",
       "      <td>3.162278</td>\n",
       "      <td>treatment</td>\n",
       "    </tr>\n",
       "    <tr>\n",
       "      <th>40</th>\n",
       "      <td>MH1_06</td>\n",
       "      <td>B11</td>\n",
       "      <td>3507.0</td>\n",
       "      <td>CL_1</td>\n",
       "      <td>72</td>\n",
       "      <td>-</td>\n",
       "      <td>0.000000</td>\n",
       "      <td>negative_control</td>\n",
       "    </tr>\n",
       "    <tr>\n",
       "      <th>440</th>\n",
       "      <td>MH1_06</td>\n",
       "      <td>F11</td>\n",
       "      <td>514.0</td>\n",
       "      <td>CL_1</td>\n",
       "      <td>72</td>\n",
       "      <td>D_2</td>\n",
       "      <td>0.100000</td>\n",
       "      <td>treatment</td>\n",
       "    </tr>\n",
       "    <tr>\n",
       "      <th>840</th>\n",
       "      <td>MH1_06</td>\n",
       "      <td>J11</td>\n",
       "      <td>3607.0</td>\n",
       "      <td>CL_1</td>\n",
       "      <td>72</td>\n",
       "      <td>-</td>\n",
       "      <td>0.000000</td>\n",
       "      <td>negative_control</td>\n",
       "    </tr>\n",
       "    <tr>\n",
       "      <th>1240</th>\n",
       "      <td>MH1_06</td>\n",
       "      <td>N11</td>\n",
       "      <td>3405.0</td>\n",
       "      <td>CL_1</td>\n",
       "      <td>72</td>\n",
       "      <td>-</td>\n",
       "      <td>0.000000</td>\n",
       "      <td>negative_control</td>\n",
       "    </tr>\n",
       "    <tr>\n",
       "      <th>240</th>\n",
       "      <td>MH1_16</td>\n",
       "      <td>D11</td>\n",
       "      <td>3488.0</td>\n",
       "      <td>CL_1</td>\n",
       "      <td>72</td>\n",
       "      <td>D_4</td>\n",
       "      <td>0.010000</td>\n",
       "      <td>treatment</td>\n",
       "    </tr>\n",
       "    <tr>\n",
       "      <th>640</th>\n",
       "      <td>MH1_16</td>\n",
       "      <td>H11</td>\n",
       "      <td>267.0</td>\n",
       "      <td>CL_1</td>\n",
       "      <td>72</td>\n",
       "      <td>D_1</td>\n",
       "      <td>3.162278</td>\n",
       "      <td>treatment</td>\n",
       "    </tr>\n",
       "    <tr>\n",
       "      <th>1040</th>\n",
       "      <td>MH1_16</td>\n",
       "      <td>L11</td>\n",
       "      <td>258.0</td>\n",
       "      <td>CL_1</td>\n",
       "      <td>72</td>\n",
       "      <td>D_1</td>\n",
       "      <td>1.000000</td>\n",
       "      <td>treatment</td>\n",
       "    </tr>\n",
       "  </tbody>\n",
       "</table>\n",
       "</div>"
      ],
      "text/plain": [
       "     barcode well  cell_count cell_line  treatment_duration agent  \\\n",
       "840   MH1_01  J11       481.0      CL_1                   0     -   \n",
       "1240  MH1_01  N11       468.0      CL_1                   0     -   \n",
       "240   MH1_11  D11       381.0      CL_1                  72   D_1   \n",
       "640   MH1_11  H11       557.0      CL_1                  72   D_2   \n",
       "1040  MH1_11  L11       262.0      CL_1                  72   D_4   \n",
       "40    MH1_06  B11      3507.0      CL_1                  72     -   \n",
       "440   MH1_06  F11       514.0      CL_1                  72   D_2   \n",
       "840   MH1_06  J11      3607.0      CL_1                  72     -   \n",
       "1240  MH1_06  N11      3405.0      CL_1                  72     -   \n",
       "240   MH1_16  D11      3488.0      CL_1                  72   D_4   \n",
       "640   MH1_16  H11       267.0      CL_1                  72   D_1   \n",
       "1040  MH1_16  L11       258.0      CL_1                  72   D_1   \n",
       "\n",
       "      concentration              role  \n",
       "840        0.000000         untreated  \n",
       "1240       0.000000         untreated  \n",
       "240        0.316228         treatment  \n",
       "640        0.010000         treatment  \n",
       "1040       3.162278         treatment  \n",
       "40         0.000000  negative_control  \n",
       "440        0.100000         treatment  \n",
       "840        0.000000  negative_control  \n",
       "1240       0.000000  negative_control  \n",
       "240        0.010000         treatment  \n",
       "640        3.162278         treatment  \n",
       "1040       1.000000         treatment  "
      ]
     },
     "execution_count": 4,
     "metadata": {},
     "output_type": "execute_result"
    }
   ],
   "source": [
    "# annotate the data \n",
    "df_annotated = TrtAnnot.add_treatments(\n",
    "                    TrtAnnot.add_plate_info(df, \n",
    "                        pd.read_csv('../tests/drug_response_data/OUTPUT/Example1_plate_info.tsv', sep='\\t')),\n",
    "                             '../tests/drug_response_data/OUTPUT/')\n",
    "df_annotated.iloc[range(840,5500,400),[0,4,5,9,10,12,13,14]]"
   ]
  },
  {
   "cell_type": "code",
   "execution_count": 5,
   "metadata": {
    "collapsed": false
   },
   "outputs": [
    {
     "data": {
      "image/png": "[encoded data removed]",
      "text/plain": [
       "<matplotlib.figure.Figure at 0x10b50b410>"
      ]
     },
     "metadata": {},
     "output_type": "display_data"
    }
   ],
   "source": [
    "qcfct.Negative_control_bias(df_annotated, filename='OUTPUT/QC_report_negative_contols.pdf')"
   ]
  }
 ],
 "metadata": {
  "kernelspec": {
   "display_name": "Python 2",
   "language": "python",
   "name": "python2"
  },
  "language_info": {
   "codemirror_mode": {
    "name": "ipython",
    "version": 2
   },
   "file_extension": ".py",
   "mimetype": "text/x-python",
   "name": "python",
   "nbconvert_exporter": "python",
   "pygments_lexer": "ipython2",
   "version": "2.7.11"
  }
 },
 "nbformat": 4,
 "nbformat_minor": 0
}
